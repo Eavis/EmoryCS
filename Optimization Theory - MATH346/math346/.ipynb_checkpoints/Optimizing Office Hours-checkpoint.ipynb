{
 "metadata": {
  "language": "Julia",
  "name": "",
  "signature": "sha256:abdb39408a6fce03b287fc2ec3a7d9ec66fc6e50aaccb67ea59e4e57de05865a"
 },
 "nbformat": 3,
 "nbformat_minor": 0,
 "worksheets": [
  {
   "cells": [
    {
     "cell_type": "code",
     "collapsed": false,
     "input": [
      "using PyPlot"
     ],
     "language": "python",
     "metadata": {},
     "outputs": [],
     "prompt_number": 6
    },
    {
     "cell_type": "code",
     "collapsed": false,
     "input": [
      "y=1.0; n=0.0; m=0.2\n",
      "hours = {\"Mon9\",\"Mon1130\",\"Mon1245\",\"Mon2\",\"Mon3\",\"Mon4\",\n",
      "    \"Tue1130\",\"Tue1245\",\"Tue2\",\"Tue3\",\"Tue4\",\n",
      "    \"Wed9\",\"Wed11\",\"Wed1\",\"Wed2\",\"Wed3\",\"Wed4\",\n",
      "    \"Thu1130\",\"Thu1245\",\"Thu2\",\"Thu3\",\"Thu4\",\n",
      "    \"Fri9\",\"Fri1130\",\"Fri1230\"   }\n",
      "A = [ n n n y y n n n n n y n n n y y n n n n n y n n n;\n",
      "      n n n y y n n y n n n y y n y y n n y n n n n n n;\n",
      "      y n n y y y n n y n y y n n y y y n n y n y y y y;\n",
      "      n n n n n y n n y y y n n n n n y n n y y y n n n;\n",
      "      n n n n y y y y n y y n n n n y y y y n y y m m m;\n",
      "      n y n n y n y n n n n n n n n y n y n n n n n y y;\n",
      "      n n n n n n n n y y y n n n n n n n m y y y y y y;\n",
      "      y n n m n n m y y n n y n n y n n m y y n n y y y;\n",
      "      m m y y m n n n y y y m m y y m n n n y y y n y y;\n",
      "      y n y y n n n n y y y y n y y n n y n n n n y y y;\n",
      "      n n n n n y y n n n y n n n n n y y n n n y n n n;]"
     ],
     "language": "python",
     "metadata": {},
     "outputs": [
      {
       "metadata": {},
       "output_type": "pyout",
       "prompt_number": 47,
       "text": [
        "11x25 Array{Float64,2}:\n",
        " 0.0  0.0  0.0  1.0  1.0  0.0  0.0  0.0  \u2026  0.0  0.0  0.0  1.0  0.0  0.0  0.0\n",
        " 0.0  0.0  0.0  1.0  1.0  0.0  0.0  1.0     1.0  0.0  0.0  0.0  0.0  0.0  0.0\n",
        " 1.0  0.0  0.0  1.0  1.0  1.0  0.0  0.0     0.0  1.0  0.0  1.0  1.0  1.0  1.0\n",
        " 0.0  0.0  0.0  0.0  0.0  1.0  0.0  0.0     0.0  1.0  1.0  1.0  0.0  0.0  0.0\n",
        " 0.0  0.0  0.0  0.0  1.0  1.0  1.0  1.0     1.0  0.0  1.0  1.0  0.2  0.2  0.2\n",
        " 0.0  1.0  0.0  0.0  1.0  0.0  1.0  0.0  \u2026  0.0  0.0  0.0  0.0  0.0  1.0  1.0\n",
        " 0.0  0.0  0.0  0.0  0.0  0.0  0.0  0.0     0.2  1.0  1.0  1.0  1.0  1.0  1.0\n",
        " 1.0  0.0  0.0  0.2  0.0  0.0  0.2  1.0     1.0  1.0  0.0  0.0  1.0  1.0  1.0\n",
        " 0.2  0.2  1.0  1.0  0.2  0.0  0.0  0.0     0.0  1.0  1.0  1.0  0.0  1.0  1.0\n",
        " 1.0  0.0  1.0  1.0  0.0  0.0  0.0  0.0     0.0  0.0  0.0  0.0  1.0  1.0  1.0\n",
        " 0.0  0.0  0.0  0.0  0.0  1.0  1.0  0.0  \u2026  0.0  0.0  0.0  1.0  0.0  0.0  0.0"
       ]
      }
     ],
     "prompt_number": 47
    },
    {
     "cell_type": "code",
     "collapsed": false,
     "input": [
      "c = vec(sum(A,1))\n",
      "fopt = 0.0;\n",
      "N = size(A,2)\n",
      "x = zeros(N)\n",
      "xopt = copy(x)\n",
      "x[1:3] = 1.0\n",
      "for k=1:1000000\n",
      "    p = randperm(N)\n",
      "    xt = x[p]\n",
      "    if(all(A*xt.>0)) && (dot(c,xt) > fopt)\n",
      "        fopt = dot(c,xt)\n",
      "        xopt = copy(xt)\n",
      "        println(fopt)\n",
      "    end\n",
      "end\n"
     ],
     "language": "python",
     "metadata": {},
     "outputs": [
      {
       "output_type": "stream",
       "stream": "stdout",
       "text": [
        "15."
       ]
      },
      {
       "output_type": "stream",
       "stream": "stdout",
       "text": [
        "4\n",
        "16.2\n",
        "17.4\n",
        "18.2\n",
        "19.2\n",
        "19.4\n",
        "20.2\n"
       ]
      }
     ],
     "prompt_number": 41
    },
    {
     "cell_type": "code",
     "collapsed": false,
     "input": [
      "I = find(xopt)\n",
      "hours[I]\n"
     ],
     "language": "python",
     "metadata": {},
     "outputs": [
      {
       "metadata": {},
       "output_type": "pyout",
       "prompt_number": 50,
       "text": [
        "3-element Array{Any,1}:\n",
        " \"Tue4\"   \n",
        " \"Wed2\"   \n",
        " \"Fri1130\""
       ]
      }
     ],
     "prompt_number": 50
    },
    {
     "cell_type": "code",
     "collapsed": false,
     "input": [
      "length(hours)\n"
     ],
     "language": "python",
     "metadata": {},
     "outputs": [
      {
       "metadata": {},
       "output_type": "pyout",
       "prompt_number": 46,
       "text": [
        "26"
       ]
      }
     ],
     "prompt_number": 46
    },
    {
     "cell_type": "code",
     "collapsed": false,
     "input": [],
     "language": "python",
     "metadata": {},
     "outputs": []
    }
   ],
   "metadata": {}
  }
 ]
}